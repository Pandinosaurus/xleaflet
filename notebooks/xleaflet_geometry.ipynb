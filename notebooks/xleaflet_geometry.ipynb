{
 "cells": [
  {
   "cell_type": "code",
   "execution_count": null,
   "metadata": {},
   "outputs": [],
   "source": [
    "#include \"xleaflet/xmap.hpp\"\n",
    "#include \"xleaflet/xcircle.hpp\"\n",
    "#include \"xleaflet/xcircle_marker.hpp\"\n",
    "\n",
    "auto map = xleaflet::map_generator()\n",
    "    .center({50, 354})\n",
    "    .zoom(5)\n",
    "    .finalize();\n",
    "\n",
    "// Create a circle with a radius in meters\n",
    "auto circle = xleaflet::circle_generator()\n",
    "    .location({50, 354})\n",
    "    .radius(50000)\n",
    "    .finalize();\n",
    "map.add_layer(circle);\n",
    "map"
   ]
  },
  {
   "cell_type": "code",
   "execution_count": null,
   "metadata": {},
   "outputs": [],
   "source": [
    "// Create a circle with a radius in pixels\n",
    "auto circle_marker = xleaflet::circle_marker_generator()\n",
    "    .location({50, 360})\n",
    "    .radius(5)\n",
    "    .finalize();\n",
    "map.add_layer(circle_marker);"
   ]
  },
  {
   "cell_type": "code",
   "execution_count": null,
   "metadata": {},
   "outputs": [],
   "source": []
  }
 ],
 "metadata": {
  "kernelspec": {
   "display_name": "C++14",
   "language": "C++14",
   "name": "xeus-cling-cpp14"
  },
  "language_info": {
   "codemirror_mode": "text/x-c++src",
   "file_extension": ".cpp",
   "mimetype": "text/x-c++src",
   "name": "c++",
   "version": "14"
  }
 },
 "nbformat": 4,
 "nbformat_minor": 2
}
