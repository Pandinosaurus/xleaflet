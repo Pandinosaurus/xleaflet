{
 "cells": [
  {
   "cell_type": "code",
   "execution_count": null,
   "metadata": {},
   "outputs": [],
   "source": [
    "#include \"xleaflet/xmap.hpp\"\n",
    "#include \"xleaflet/xwms_layer.hpp\"\n",
    "\n",
    "auto map = xlf::map_generator()\n",
    "    .center({46, 14})\n",
    "    .zoom(5)\n",
    "    .finalize();\n",
    "\n",
    "auto wms = xlf::wms_layer_generator()\n",
    "    .url(\"https://ows.terrestris.de/osm/service\")\n",
    "    .layers(\"OSM-Overlay-WMS\")\n",
    "    .tile_size(512)\n",
    "    .finalize();\n",
    "map.add_layer(wms);\n",
    "\n",
    "map"
   ]
  }
 ],
 "metadata": {
  "kernelspec": {
   "display_name": "C++14",
   "language": "C++14",
   "name": "xeus-cling-cpp14"
  },
  "language_info": {
   "codemirror_mode": "text/x-c++src",
   "file_extension": ".cpp",
   "mimetype": "text/x-c++src",
   "name": "c++",
   "version": "14"
  }
 },
 "nbformat": 4,
 "nbformat_minor": 2
}
