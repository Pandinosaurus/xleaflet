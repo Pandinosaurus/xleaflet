{
 "cells": [
  {
   "cell_type": "markdown",
   "metadata": {},
   "source": [
    "![xleaflet](images/xleaflet.png)"
   ]
  },
  {
   "cell_type": "markdown",
   "metadata": {},
   "source": [
    "<center> <h1>C++ backend for the jupyter-leaflet map visualization library</h1> </center>"
   ]
  },
  {
   "cell_type": "markdown",
   "metadata": {},
   "source": [
    "<center> <h1>Widget Control</h1> </center>"
   ]
  },
  {
   "cell_type": "code",
   "execution_count": 1,
   "metadata": {},
   "outputs": [],
   "source": [
    "#include \"xleaflet/xmap.hpp\"\n",
    "#include \"xleaflet/xbasemaps.hpp\"\n",
    "#include \"xleaflet/xmarker.hpp\"\n",
    "#include \"xleaflet/xpopup.hpp\"\n",
    "\n",
    "#include \"xwidgets/xbutton.hpp\"\n",
    "#include \"xwidgets/xslider.hpp\"\n",
    "\n",
    "#include \"xwidgets/xhtml.hpp\"\n",
    "#include \"xleaflet/xwidget_control.hpp\""
   ]
  },
  {
   "cell_type": "code",
   "execution_count": 2,
   "metadata": {
    "scrolled": false
   },
   "outputs": [
    {
     "data": {
      "application/vnd.jupyter.widget-view+json": {
       "model_id": "0e26fcd9ecdd464d973803e4f5c83435",
       "version_major": 2,
       "version_minor": 0
      },
      "text/plain": [
       "A Jupyter widget"
      ]
     },
     "metadata": {},
     "output_type": "display_data"
    }
   ],
   "source": [
    "std::array<double, 2> center = {52.204793, 360.121558};\n",
    "\n",
    "auto map = xlf::map_generator()\n",
    "    .center(center)\n",
    "    .zoom(4)\n",
    "    .close_popup_on_click(false)\n",
    "    .finalize();\n",
    "map.display();\n"
   ]
  },
  {
   "cell_type": "code",
   "execution_count": 3,
   "metadata": {},
   "outputs": [],
   "source": [
    "xw::button button;\n",
    "button.description = \"Click me!\";\n",
    "button.button_style = \"success\";"
   ]
  },
  {
   "cell_type": "code",
   "execution_count": 4,
   "metadata": {
    "scrolled": true
   },
   "outputs": [],
   "source": [
    "auto popup = xlf::widget_control_generator()\n",
    "    .widget(button)\n",
    "    .finalize();\n",
    "map.add_control(popup);"
   ]
  },
  {
   "cell_type": "code",
   "execution_count": 5,
   "metadata": {},
   "outputs": [],
   "source": [
    "auto button1 = xw::slider_generator<double>()\n",
    "    .min(1.0)\n",
    "    .max(9.0)\n",
    "    .value(4.0)\n",
    "    .orientation(\"horizontal\")\n",
    "    .finalize();"
   ]
  },
  {
   "cell_type": "code",
   "execution_count": 6,
   "metadata": {},
   "outputs": [],
   "source": [
    "auto popup2 = xlf::widget_control_generator()\n",
    "    .widget(button1)\n",
    "    .position(\"bottomright\")\n",
    "    .finalize();\n",
    "map.add_control(popup2);"
   ]
  },
  {
   "cell_type": "code",
   "execution_count": null,
   "metadata": {},
   "outputs": [],
   "source": []
  }
 ],
 "metadata": {
  "kernelspec": {
   "display_name": "C++14",
   "language": "C++14",
   "name": "xcpp14"
  },
  "language_info": {
   "codemirror_mode": "text/x-c++src",
   "file_extension": ".cpp",
   "mimetype": "text/x-c++src",
   "name": "c++",
   "version": "-std=c++14"
  }
 },
 "nbformat": 4,
 "nbformat_minor": 2
}
