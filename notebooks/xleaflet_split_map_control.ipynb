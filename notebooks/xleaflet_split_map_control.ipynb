{
 "cells": [
  {
   "cell_type": "code",
   "execution_count": null,
   "metadata": {},
   "outputs": [],
   "source": [
    "#include \"xleaflet/xmap.hpp\"\n",
    "#include \"xleaflet/xtile_layer.hpp\"\n",
    "#include \"xleaflet/xwms_layer.hpp\"\n",
    "#include \"xleaflet/xsplit_map_control.hpp\"\n",
    "\n",
    "auto map = xlf::map_generator()\n",
    "    .center({50, 354})\n",
    "    .zoom(5)\n",
    "    .finalize();\n",
    "map"
   ]
  },
  {
   "cell_type": "code",
   "execution_count": null,
   "metadata": {},
   "outputs": [],
   "source": [
    "auto right_layer = xlf::tile_layer_generator()\n",
    "    .url(\"https://map1.vis.earthdata.nasa.gov/wmts-webmerc/MODIS_Terra_CorrectedReflectance_TrueColor/default/2018-04-04/GoogleMapsCompatible_Level9/{z}/{y}/{x}.jpg\")\n",
    "    .name(\"NASAGIBS.ModisTerraTrueColorCR\")\n",
    "    .attribution(\"Imagery provided by services from the Global Imagery Browse Services (GIBS), operated by the NASA/GSFC/Earth Science Data and Information System (<a href=\\\"https://earthdata.nasa.gov\\\">ESDIS</a>) with funding provided by NASA/HQ.\")\n",
    "    .max_zoom(9)\n",
    "    .finalize();\n",
    "auto left_layer = xlf::tile_layer_generator()\n",
    "    .url(\"https://cartodb-basemaps-{s}.global.ssl.fastly.net/light_all/{z}/{x}/{y}.png\")\n",
    "    .finalize();"
   ]
  },
  {
   "cell_type": "code",
   "execution_count": null,
   "metadata": {},
   "outputs": [],
   "source": [
    "auto control = xlf::split_map_control_generator()\n",
    "    .left_layer(left_layer)\n",
    "    .right_layer(right_layer)\n",
    "    .finalize();\n",
    "map.add_control(control)"
   ]
  }
 ],
 "metadata": {
  "kernelspec": {
   "display_name": "C++14",
   "language": "C++14",
   "name": "xeus-cling-cpp14"
  },
  "language_info": {
   "codemirror_mode": "text/x-c++src",
   "file_extension": ".cpp",
   "mimetype": "text/x-c++src",
   "name": "c++",
   "version": "14"
  }
 },
 "nbformat": 4,
 "nbformat_minor": 2
}
