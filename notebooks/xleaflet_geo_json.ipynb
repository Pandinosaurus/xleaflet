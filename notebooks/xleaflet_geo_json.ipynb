{
 "cells": [
  {
   "cell_type": "code",
   "execution_count": null,
   "metadata": {},
   "outputs": [],
   "source": [
    "#include \"xleaflet/xmap.hpp\"\n",
    "#include \"xleaflet/xgeo_json.hpp\"\n",
    "\n",
    "auto map = xleaflet::map_generator()\n",
    "    .center({34.6252978589571, -77.34580993652344})\n",
    "    .zoom(10)\n",
    "    .finalize();\n",
    "map"
   ]
  },
  {
   "cell_type": "code",
   "execution_count": null,
   "metadata": {},
   "outputs": [],
   "source": [
    "#include <fstream>\n",
    "\n",
    "std::ifstream file(\"geo.json\");\n",
    "nlohmann::json geo_data;\n",
    "file >> geo_data;"
   ]
  },
  {
   "cell_type": "code",
   "execution_count": null,
   "metadata": {},
   "outputs": [],
   "source": [
    "for (auto& feature: geo_data[\"features\"])\n",
    "{\n",
    "    feature[\"properties\"][\"style\"] = {\n",
    "        {\"weight\", 1},\n",
    "        {\"fillOpacity\", 0.5}\n",
    "    };\n",
    "}"
   ]
  },
  {
   "cell_type": "code",
   "execution_count": null,
   "metadata": {},
   "outputs": [],
   "source": [
    "auto geo_json = xleaflet::geo_json_generator()\n",
    "    .data(geo_data)\n",
    "    .finalize();\n",
    "map.add_layer(geo_json);"
   ]
  }
 ],
 "metadata": {
  "kernelspec": {
   "display_name": "C++14",
   "language": "C++14",
   "name": "xeus-cling-cpp14"
  },
  "language_info": {
   "codemirror_mode": "text/x-c++src",
   "file_extension": ".cpp",
   "mimetype": "text/x-c++src",
   "name": "c++",
   "version": "14"
  }
 },
 "nbformat": 4,
 "nbformat_minor": 2
}
