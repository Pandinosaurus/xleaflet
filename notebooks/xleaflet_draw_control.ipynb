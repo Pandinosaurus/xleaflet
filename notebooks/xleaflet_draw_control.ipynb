{
 "cells": [
  {
   "cell_type": "code",
   "execution_count": null,
   "metadata": {},
   "outputs": [],
   "source": [
    "#include <iostream>\n",
    "#include <string>\n",
    "\n",
    "#include \"xleaflet/xmap.hpp\"\n",
    "#include \"xleaflet/xdraw_control.hpp\"\n",
    "\n",
    "auto map = xleaflet::map_generator()\n",
    "    .center({50, 354})\n",
    "    .zoom(5)\n",
    "    .finalize();\n",
    "map"
   ]
  },
  {
   "cell_type": "code",
   "execution_count": null,
   "metadata": {},
   "outputs": [],
   "source": [
    "// Set options for draw control\n",
    "xeus::xjson polyline_options = {\n",
    "    {\"shapeOptions\", {\n",
    "        {\"color\", \"#6bc2e5\"},\n",
    "        {\"weight\", 8}\n",
    "    }}\n",
    "};\n",
    "\n",
    "xeus::xjson polygon_options = {\n",
    "    {\"shapeOptions\", {\n",
    "        {\"fillColor\", \"#6be5c3\"},\n",
    "        {\"color\", \"#6be5c3\"}\n",
    "    }},\n",
    "    {\"drawError\", {\n",
    "        {\"color\", \"#dd253b\"},\n",
    "        {\"message\", \"Oups!\"}\n",
    "    }},\n",
    "    {\"allowIntersection\", false}\n",
    "};\n",
    "\n",
    "xeus::xjson circle_options = {\n",
    "    {\"shapeOptions\", {\n",
    "        {\"fillColor\", \"#efed69\"},\n",
    "        {\"color\", \"#efed69\"}\n",
    "    }}\n",
    "};\n",
    "\n",
    "xeus::xjson rectangle_options = {\n",
    "    {\"shapeOptions\", {\n",
    "        {\"fillColor\", \"#fca45d\"},\n",
    "        {\"color\", \"#fca45d\"}\n",
    "    }}\n",
    "};"
   ]
  },
  {
   "cell_type": "code",
   "execution_count": null,
   "metadata": {},
   "outputs": [],
   "source": [
    "void print_event(std::string action, xeus::xjson geo_json)\n",
    "{\n",
    "    std::cout << action << \" a \" \n",
    "        << geo_json[\"geometry\"][\"type\"]\n",
    "        << std::endl;\n",
    "}"
   ]
  },
  {
   "cell_type": "code",
   "execution_count": null,
   "metadata": {},
   "outputs": [],
   "source": [
    "auto draw_control = xleaflet::draw_control_generator()\n",
    "    .polyline(polyline_options)\n",
    "    .polygon(polygon_options)\n",
    "    .circle(circle_options)\n",
    "    .rectangle(rectangle_options)\n",
    "    .finalize();\n",
    "draw_control.on_draw(print_event);\n",
    "map.add_control(draw_control);"
   ]
  },
  {
   "cell_type": "code",
   "execution_count": null,
   "metadata": {},
   "outputs": [],
   "source": [
    "std::cout << draw_control.last_action() << std::endl;"
   ]
  },
  {
   "cell_type": "code",
   "execution_count": null,
   "metadata": {},
   "outputs": [],
   "source": [
    "std::cout << draw_control.last_draw() << std::endl;"
   ]
  }
 ],
 "metadata": {
  "kernelspec": {
   "display_name": "C++14",
   "language": "C++14",
   "name": "xeus-cling-cpp14"
  },
  "language_info": {
   "codemirror_mode": "text/x-c++src",
   "file_extension": ".cpp",
   "mimetype": "text/x-c++src",
   "name": "c++",
   "version": "14"
  }
 },
 "nbformat": 4,
 "nbformat_minor": 2
}
