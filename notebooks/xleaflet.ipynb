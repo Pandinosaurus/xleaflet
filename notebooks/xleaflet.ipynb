{
 "cells": [
  {
   "cell_type": "code",
   "execution_count": null,
   "metadata": {},
   "outputs": [],
   "source": [
    "#include \"xleaflet/xmap.hpp\"\n",
    "#include \"xleaflet/xlayer.hpp\"\n",
    "#include \"xleaflet/xmarker.hpp\"\n",
    "#include \"xleaflet/xvideo_overlay.hpp\""
   ]
  },
  {
   "cell_type": "code",
   "execution_count": null,
   "metadata": {},
   "outputs": [],
   "source": [
    "auto m = xleaflet::map_generator().center({50, 354}).zoom(5).finalize();\n",
    "m"
   ]
  },
  {
   "cell_type": "code",
   "execution_count": null,
   "metadata": {},
   "outputs": [],
   "source": [
    "auto nasa_layer = xleaflet::tile_layer_generator()\n",
    "    .url(\"https://map1.vis.earthdata.nasa.gov/wmts-webmerc/MODIS_Terra_CorrectedReflectance_TrueColor/default/2018-04-04/GoogleMapsCompatible_Level9/{z}/{y}/{x}.jpg\")\n",
    "    .name(\"NASAGIBS.ModisTerraTrueColorCR\")\n",
    "    .attribution(\"Imagery provided by services from the Global Imagery Browse Services (GIBS), operated by the NASA/GSFC/Earth Science Data and Information System (<a href=\\\"https://earthdata.nasa.gov\\\">ESDIS</a>) with funding provided by NASA/HQ.\")\n",
    "    .max_zoom(9)\n",
    "    .opacity(0.6)\n",
    "    .finalize();"
   ]
  },
  {
   "cell_type": "code",
   "execution_count": null,
   "metadata": {},
   "outputs": [],
   "source": [
    "m.add_layer(nasa_layer);"
   ]
  },
  {
   "cell_type": "code",
   "execution_count": null,
   "metadata": {},
   "outputs": [],
   "source": [
    "auto marker = xleaflet::marker_generator().location({50, 354}).finalize();\n",
    "m.add_layer(marker);"
   ]
  },
  {
   "cell_type": "code",
   "execution_count": null,
   "metadata": {
    "scrolled": false
   },
   "outputs": [],
   "source": [
    "auto m2 = xleaflet::map_generator().center({25, -130}).zoom(4).finalize();\n",
    "m2"
   ]
  },
  {
   "cell_type": "code",
   "execution_count": null,
   "metadata": {},
   "outputs": [],
   "source": [
    "auto video = xleaflet::video_overlay_generator()\n",
    "    .url(\"https://www.mapbox.com/bites/00188/patricia_nasa.webm\")\n",
    "    .bounds({{{13, -130}, {32, -100}}})\n",
    "    .finalize();\n",
    "m2.add_layer(video);"
   ]
  },
  {
   "cell_type": "code",
   "execution_count": null,
   "metadata": {},
   "outputs": [],
   "source": []
  }
 ],
 "metadata": {
  "kernelspec": {
   "display_name": "C++14",
   "language": "C++14",
   "name": "xeus-cling-cpp14"
  },
  "language_info": {
   "codemirror_mode": "text/x-c++src",
   "file_extension": ".cpp",
   "mimetype": "text/x-c++src",
   "name": "c++",
   "version": "14"
  }
 },
 "nbformat": 4,
 "nbformat_minor": 2
}
