{
 "cells": [
  {
   "cell_type": "code",
   "execution_count": null,
   "metadata": {},
   "outputs": [],
   "source": [
    "#include <iostream>\n",
    "#include <string>\n",
    "\n",
    "#include \"xleaflet/xmap.hpp\"\n",
    "#include \"xleaflet/xtile_layer.hpp\"\n",
    "#include \"xleaflet/xmarker.hpp\"\n",
    "#include \"xleaflet/xmarker_cluster.hpp\"\n",
    "\n",
    "#include \"xwidgets/xbox.hpp\"\n",
    "#include \"xwidgets/xtext.hpp\"\n",
    "#include \"xwidgets/xlabel.hpp\""
   ]
  },
  {
   "cell_type": "code",
   "execution_count": null,
   "metadata": {},
   "outputs": [],
   "source": [
    "auto map = xleaflet::map_generator()\n",
    "    .center({50, 354})\n",
    "    .zoom(5)\n",
    "    .finalize();\n",
    "\n",
    "xw::vbox vbox;\n",
    "xw::hbox hbox1, hbox2;\n",
    "xw::label label1, label2;\n",
    "xw::text center, mouse_position;\n",
    "\n",
    "center.disabled = true;\n",
    "mouse_position.disabled = true;\n",
    "\n",
    "vbox.add(map);\n",
    "vbox.add(hbox1);\n",
    "vbox.add(hbox2);\n",
    "\n",
    "label1.value = \"Center:\";\n",
    "center.value = \"[50.0, 354.0]\";\n",
    "hbox1.add(label1);\n",
    "hbox1.add(center);\n",
    "\n",
    "label2.value = \"Mouse position:\";\n",
    "mouse_position.value = \"Mouse out\";\n",
    "hbox2.add(label2);\n",
    "hbox2.add(mouse_position);\n",
    "\n",
    "vbox"
   ]
  },
  {
   "cell_type": "code",
   "execution_count": null,
   "metadata": {},
   "outputs": [],
   "source": [
    "void update_center(xleaflet::map& map)\n",
    "{\n",
    "    std::string lat = std::to_string(map.center().front());\n",
    "    std::string lng = std::to_string(map.center().back());\n",
    "    center.value = \"[\" + lat + \", \" + lng + \"]\";\n",
    "}"
   ]
  },
  {
   "cell_type": "code",
   "execution_count": null,
   "metadata": {},
   "outputs": [],
   "source": [
    "XOBSERVE(map, center, update_center);"
   ]
  },
  {
   "cell_type": "code",
   "execution_count": null,
   "metadata": {},
   "outputs": [],
   "source": [
    "void update_mouse_position(xeus::xjson event)\n",
    "{\n",
    "    if (event[\"type\"] == \"mousemove\")\n",
    "    {\n",
    "        mouse_position.value = event[\"coordinates\"].dump();\n",
    "    }\n",
    "    \n",
    "    if (event[\"type\"] == \"mouseout\")\n",
    "    {\n",
    "        mouse_position.value = \"Mouse out\";\n",
    "    }\n",
    "}\n",
    "map.on_interaction(update_mouse_position);"
   ]
  },
  {
   "cell_type": "code",
   "execution_count": null,
   "metadata": {},
   "outputs": [],
   "source": [
    "void print_event(xeus::xjson event)\n",
    "{\n",
    "    std::cout << \"Tiles loaded!\" << std::endl;\n",
    "}"
   ]
  },
  {
   "cell_type": "code",
   "execution_count": null,
   "metadata": {},
   "outputs": [],
   "source": [
    "auto nasa_layer = xleaflet::tile_layer_generator()\n",
    "    .url(\"https://map1.vis.earthdata.nasa.gov/wmts-webmerc/MODIS_Terra_CorrectedReflectance_TrueColor/default/2018-04-04/GoogleMapsCompatible_Level9/{z}/{y}/{x}.jpg\")\n",
    "    .name(\"NASAGIBS.ModisTerraTrueColorCR\")\n",
    "    .attribution(\"Imagery provided by services from the Global Imagery Browse Services (GIBS), operated by the NASA/GSFC/Earth Science Data and Information System (<a href=\\\"https://earthdata.nasa.gov\\\">ESDIS</a>) with funding provided by NASA/HQ.\")\n",
    "    .max_zoom(9)\n",
    "    .opacity(0.6)\n",
    "    .finalize();\n",
    "nasa_layer.on_load(print_event);\n",
    "map.add_layer(nasa_layer);"
   ]
  },
  {
   "cell_type": "code",
   "execution_count": null,
   "metadata": {},
   "outputs": [],
   "source": [
    "// Create a marker cluster and add it to the map\n",
    "auto marker1 = xleaflet::marker_generator()\n",
    "    .location({50, 354})\n",
    "    .finalize();\n",
    "auto marker2 = xleaflet::marker_generator()\n",
    "    .location({52, 356})\n",
    "    .finalize();\n",
    "auto marker3 = xleaflet::marker_generator()\n",
    "    .location({48, 352})\n",
    "    .finalize();\n",
    "auto marker_cluster = xleaflet::marker_cluster_generator()\n",
    "    .markers({marker1, marker2, marker3})\n",
    "    .finalize();\n",
    "map.add_layer(marker_cluster);"
   ]
  },
  {
   "cell_type": "code",
   "execution_count": null,
   "metadata": {},
   "outputs": [],
   "source": [
    "// Remove the marker cluster\n",
    "map.remove_layer(marker_cluster);"
   ]
  },
  {
   "cell_type": "code",
   "execution_count": null,
   "metadata": {},
   "outputs": [],
   "source": [
    "// Create a single marker with a move callback\n",
    "auto marker = xleaflet::marker_generator()\n",
    "    .location({50, 354})\n",
    "    .finalize();\n",
    "map.add_layer(marker);"
   ]
  },
  {
   "cell_type": "code",
   "execution_count": null,
   "metadata": {},
   "outputs": [],
   "source": [
    "void print_location(xeus::xjson event)\n",
    "{\n",
    "    std::cout << \"marker location: (\" << event.find(\"location\").value().at(0) \n",
    "        << \", \" << event.find(\"location\").value().at(1) << \")\" << std::endl;\n",
    "}\n",
    "marker.on_move(print_location);"
   ]
  },
  {
   "cell_type": "code",
   "execution_count": null,
   "metadata": {},
   "outputs": [],
   "source": []
  }
 ],
 "metadata": {
  "kernelspec": {
   "display_name": "C++14",
   "language": "C++14",
   "name": "xeus-cling-cpp14"
  },
  "language_info": {
   "codemirror_mode": "text/x-c++src",
   "file_extension": ".cpp",
   "mimetype": "text/x-c++src",
   "name": "c++",
   "version": "14"
  }
 },
 "nbformat": 4,
 "nbformat_minor": 2
}
