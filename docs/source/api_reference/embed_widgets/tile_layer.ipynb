{
 "cells": [
  {
   "cell_type": "code",
   "execution_count": null,
   "metadata": {},
   "outputs": [],
   "source": [
    "#include \"xleaflet/xmap.hpp\"\n",
    "#include \"xleaflet/xbasemaps.hpp\"\n",
    "\n",
    "auto map = xlf::map_generator()\n",
    "    .center({52.204793, 360.121558})\n",
    "    .zoom(9)\n",
    "    .finalize();\n",
    "\n",
    "auto dark_matter_layer = xlf::basemap({\"CartoDB\", \"DarkMatter\"});\n",
    "map.add_layer(dark_matter_layer);\n",
    "map"
   ]
  }
 ],
 "metadata": {
  "kernelspec": {
   "display_name": "C++14",
   "language": "C++14",
   "name": "xeus-cling-cpp14"
  },
  "language_info": {
   "codemirror_mode": "text/x-c++src",
   "file_extension": ".cpp",
   "mimetype": "text/x-c++src",
   "name": "c++",
   "version": "14"
  }
 },
 "nbformat": 4,
 "nbformat_minor": 2
}
