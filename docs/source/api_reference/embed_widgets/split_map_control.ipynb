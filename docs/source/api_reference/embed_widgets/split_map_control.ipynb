{
 "cells": [
  {
   "cell_type": "code",
   "execution_count": null,
   "metadata": {},
   "outputs": [],
   "source": [
    "#include \"xleaflet/xmap.hpp\"\n",
    "#include \"xleaflet/xbasemaps.hpp\"\n",
    "#include \"xleaflet/xsplit_map_control.hpp\"\n",
    "\n",
    "auto map = xlf::map_generator()\n",
    "    .center({42.6824, 365.581})\n",
    "    .zoom(5)\n",
    "    .finalize();\n",
    "\n",
    "auto right_layer = xlf::basemap({\"NASAGIBS\", \"ModisTerraTrueColorCR\"}, \"2017-11-11\");\n",
    "auto left_layer = xlf::basemap({\"NASAGIBS\", \"ModisAquaBands721CR\"}, \"2017-11-11\");\n",
    "\n",
    "auto control = xlf::split_map_control_generator()\n",
    "    .left_layer(left_layer)\n",
    "    .right_layer(right_layer)\n",
    "    .finalize();\n",
    "map.add_control(control);\n",
    "\n",
    "map"
   ]
  }
 ],
 "metadata": {
  "kernelspec": {
   "display_name": "C++14",
   "language": "C++14",
   "name": "xeus-cling-cpp14"
  },
  "language_info": {
   "codemirror_mode": "text/x-c++src",
   "file_extension": ".cpp",
   "mimetype": "text/x-c++src",
   "name": "c++",
   "version": "14"
  }
 },
 "nbformat": 4,
 "nbformat_minor": 2
}
