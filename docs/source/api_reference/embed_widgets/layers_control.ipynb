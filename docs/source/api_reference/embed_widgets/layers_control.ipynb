{
 "cells": [
  {
   "cell_type": "code",
   "execution_count": null,
   "metadata": {},
   "outputs": [],
   "source": [
    "#include \"xleaflet/xmap.hpp\"\n",
    "#include \"xleaflet/xbasemaps.hpp\"\n",
    "#include \"xleaflet/xtile_layer.hpp\"\n",
    "#include \"xleaflet/xwms_layer.hpp\"\n",
    "#include \"xleaflet/xlayers_control.hpp\"\n",
    "\n",
    "auto map = xlf::map_generator()\n",
    "    .center({50, 354})\n",
    "    .zoom(4)\n",
    "    .finalize();\n",
    "\n",
    "auto nasa_layer = xlf::basemap({\"NASAGIBS\", \"ModisTerraTrueColorCR\"}, \"2018-03-30\");\n",
    "map.add_layer(nasa_layer);\n",
    "\n",
    "auto wms = xlf::wms_layer_generator()\n",
    "    .url(\"https://demo.boundlessgeo.com/geoserver/ows?\")\n",
    "    .layers(\"nasa:bluemarble\")\n",
    "    .name(\"nasa:bluemarble\")\n",
    "    .finalize();\n",
    "map.add_layer(wms);\n",
    "\n",
    "map.add_control(xlf::layers_control());\n",
    "\n",
    "map"
   ]
  }
 ],
 "metadata": {
  "kernelspec": {
   "display_name": "C++14",
   "language": "C++14",
   "name": "xeus-cling-cpp14"
  },
  "language_info": {
   "codemirror_mode": "text/x-c++src",
   "file_extension": ".cpp",
   "mimetype": "text/x-c++src",
   "name": "c++",
   "version": "14"
  }
 },
 "nbformat": 4,
 "nbformat_minor": 2
}
