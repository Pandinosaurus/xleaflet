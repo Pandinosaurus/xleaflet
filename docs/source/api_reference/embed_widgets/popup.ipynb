{
 "cells": [
  {
   "cell_type": "code",
   "execution_count": null,
   "metadata": {},
   "outputs": [],
   "source": [
    "#include \"xwidgets/xhtml.hpp\"\n",
    "\n",
    "#include \"xleaflet/xmap.hpp\"\n",
    "#include \"xleaflet/xbasemaps.hpp\"\n",
    "#include \"xleaflet/xmarker.hpp\"\n",
    "#include \"xleaflet/xpopup.hpp\"\n",
    "\n",
    "std::array<double, 2> center = {52.204793, 360.121558};\n",
    "\n",
    "auto map = xlf::map_generator()\n",
    "    .center(center)\n",
    "    .zoom(9)\n",
    "    .close_popup_on_click(false)\n",
    "    .finalize();\n",
    "map.display();\n",
    "\n",
    "auto marker = xlf::marker_generator()\n",
    "    .location({52.1, 359.9})\n",
    "    .finalize();\n",
    "map.add_layer(marker);\n",
    "\n",
    "xw::html message1, message2;\n",
    "message1.value = \"Try clicking the marker!\";\n",
    "message2.value = \"Hello <b>World</b>\";\n",
    "message2.placeholder = \"Some HTML\";\n",
    "message2.description = \"Some HTML\";\n",
    "\n",
    "// Popup with a given location on the map:\n",
    "auto popup = xlf::popup_generator()\n",
    "    .location(center)\n",
    "    .child(message1)\n",
    "    .close_button(false)\n",
    "    .auto_close(false)\n",
    "    .close_on_escape_key(false)\n",
    "    .finalize();\n",
    "map.add_layer(popup);\n",
    "\n",
    "// Popup associated to a layer\n",
    "marker.popup = message2;"
   ]
  }
 ],
 "metadata": {
  "kernelspec": {
   "display_name": "C++14",
   "language": "C++14",
   "name": "xeus-cling-cpp14"
  },
  "language_info": {
   "codemirror_mode": "text/x-c++src",
   "file_extension": ".cpp",
   "mimetype": "text/x-c++src",
   "name": "c++",
   "version": "14"
  }
 },
 "nbformat": 4,
 "nbformat_minor": 2
}
