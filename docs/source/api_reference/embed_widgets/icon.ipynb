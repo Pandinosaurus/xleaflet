{
 "cells": [
  {
   "cell_type": "code",
   "execution_count": null,
   "metadata": {},
   "outputs": [],
   "source": [
    "#include <array>\n",
    "\n",
    "#include \"xleaflet/xmap.hpp\"\n",
    "#include \"xleaflet/xmarker.hpp\"\n",
    "#include \"xleaflet/xicon.hpp\"\n",
    "\n",
    "using size_type = std::array<int, 2>;\n",
    "\n",
    "std::array<double, 2> center({52.204793, 360.121558});\n",
    "\n",
    "auto map = xlf::map_generator()\n",
    "    .center(center)\n",
    "    .zoom(10)\n",
    "    .finalize();\n",
    "\n",
    "auto icon = xlf::icon_generator()\n",
    "    .icon_url(\"https://leafletjs.com/examples/custom-icons/leaf-red.png\")\n",
    "    .icon_size(size_type({38, 95}))\n",
    "    .icon_anchor(size_type({22, 94}))\n",
    "    .finalize();\n",
    "\n",
    "auto marker = xlf::marker_generator()\n",
    "    .location(center)\n",
    "    .icon(icon)\n",
    "    .rotation_angle(0)\n",
    "    .rotation_origin(\"22px 94px\")\n",
    "    .finalize();\n",
    "\n",
    "map.add_layer(marker);\n",
    "\n",
    "map"
   ]
  }
 ],
 "metadata": {
  "kernelspec": {
   "display_name": "C++14",
   "language": "C++14",
   "name": "xeus-cling-cpp14"
  },
  "language_info": {
   "codemirror_mode": "text/x-c++src",
   "file_extension": ".cpp",
   "mimetype": "text/x-c++src",
   "name": "c++",
   "version": "-std=c++14"
  }
 },
 "nbformat": 4,
 "nbformat_minor": 2
}
