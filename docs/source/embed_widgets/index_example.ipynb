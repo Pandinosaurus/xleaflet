{
 "cells": [
  {
   "cell_type": "code",
   "execution_count": null,
   "metadata": {},
   "outputs": [],
   "source": [
    "#include \"xwidgets/xhtml.hpp\"\n",
    "\n",
    "#include \"xleaflet/xmap.hpp\"\n",
    "#include \"xleaflet/xbasemaps.hpp\"\n",
    "#include \"xleaflet/xpopup.hpp\"\n",
    "#include \"xleaflet/xmarker.hpp\"\n",
    "#include \"xleaflet/xmarker_cluster.hpp\"\n",
    "\n",
    "auto map = xlf::map::initialize())\n",
    "    .layers({xlf::basemap({\"NASAGIBS\", \"ModisTerraTrueColorCR\"}, \"2014-09-01\")})\n",
    "    .center({49.8946, 351.563})\n",
    "    .zoom(5)\n",
    "    .close_popup_on_click(false)\n",
    "    .finalize();\n",
    "\n",
    "auto marker1 = xlf::marker::initialize)\n",
    "    .location({48.92, 362.26})\n",
    "    .finalize();\n",
    "auto marker2 = xlf::marker::initialize()\n",
    "    .location({52.23, 360.24})\n",
    "    .finalize();\n",
    "auto marker3 = xlf::marker::initialize()\n",
    "    .location({43.698, 361.34})\n",
    "    .finalize();\n",
    "auto marker_cluster = xlf::marker_cluster::initialize()\n",
    "    .markers({marker1, marker2, marker3})\n",
    "    .finalize();\n",
    "\n",
    "map.add_layer(marker_cluster);\n",
    "\n",
    "xw::html image, message, message1, message2;\n",
    "\n",
    "image.value = \"<img src='_images/xleaflet.svg' alt='xleaflet logo' style='min-width:300px;'>\";\n",
    "marker1.popup = image;\n",
    "\n",
    "message.value = \"Some HTML <b>Hello!</b>\";\n",
    "marker2.popup = message;\n",
    "\n",
    "message1.value = \"C++ backend for the jupyter leaflet widget\";\n",
    "marker3.popup = message1;\n",
    "\n",
    "message2.value = \"Try clicking on markers!\";\n",
    "auto popup = xlf::popup::initialize()\n",
    "    .child(message2)\n",
    "    .location({48.3416, 340.584})\n",
    "    .finalize();\n",
    "map.add_layer(popup);\n",
    "\n",
    "map"
   ]
  }
 ],
 "metadata": {
  "kernelspec": {
   "display_name": "C++14",
   "language": "C++14",
   "name": "xeus-cling-cpp14"
  },
  "language_info": {
   "codemirror_mode": "text/x-c++src",
   "file_extension": ".cpp",
   "mimetype": "text/x-c++src",
   "name": "c++",
   "version": "14"
  }
 },
 "nbformat": 4,
 "nbformat_minor": 2
}
